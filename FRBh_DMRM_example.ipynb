{
 "cells": [
  {
   "cell_type": "markdown",
   "id": "06663e8f-2b2c-442f-b1ad-3441a48ab3f2",
   "metadata": {},
   "source": [
    "### Initialization"
   ]
  },
  {
   "cell_type": "code",
   "execution_count": 113,
   "id": "79da3f96-5ba4-42b6-be51-6994cd820119",
   "metadata": {
    "tags": []
   },
   "outputs": [],
   "source": [
    "import scipy.stats as st\n",
    "import numpy as np\n",
    "import matplotlib.pyplot as plt\n",
    "from astropy.io import ascii\n",
    "\n",
    "\n",
    "# Definition of RM PDF , Lorentzian + 2 Gaussian functions\n",
    "\n",
    "def RM_pdf_values(a,b,size,a1,a2,a3,gamma,sigma1,sigma2):\n",
    "    class RM_pdf(st.rv_continuous):\n",
    "        def _pdf(self,x):\n",
    "            return (a3 * (1 / sigma2/np.sqrt(2*np.pi)* np.exp(-1/2*(x / sigma2)**2 ))\n",
    "            +(a2) * (1 / sigma1/np.sqrt(2*np.pi)* np.exp(-1/2*(x / sigma1)**2 ))\n",
    "            +(a1)*(1 / (np.pi*gamma) *((gamma**2) / (x**2 + gamma**2)))) \n",
    "    RM_cv = RM_pdf(a=a,b=b)\n",
    "    RM = RM_cv.rvs(size=size)\n",
    "    return RM\n",
    "\n",
    "# Definition of DM PDF, lognormal\n",
    "def DM_pdf_values(a,b,size,mu,sigma):\n",
    "    class DM_pdf(st.rv_continuous):\n",
    "        def _pdf(self,x):\n",
    "            return 1/((x)*sigma * np.sqrt(2*np.pi))* np.exp(-(np.log(x)-mu)**2/(2*sigma**2))  \n",
    "    DM_cv = DM_pdf(a=a,b=b)\n",
    "    DM = DM_cv.rvs(size=size)\n",
    "    return DM\n",
    "\n",
    "\n",
    "# Curved powerlaw describing the redshift evolution of the parameters of the RM PDF \n",
    "def curved_powerlaw(x,a,b,c,d):\n",
    "    y = a*x**(d+b*x)+c\n",
    "    return y\n",
    "\n",
    "# EXponential describing the redshift evolution of the parameters of the DM PDF\n",
    "def exponential(x, a, b,c):\n",
    "    return a*np.exp(-b*x)+c"
   ]
  },
  {
   "cell_type": "markdown",
   "id": "08be59e4-96ea-4a57-b12b-432c06408bbd",
   "metadata": {
    "tags": []
   },
   "source": [
    "### Change input parameters here\n",
    "\n",
    "#### Choosing redshift and subset\n",
    "Redshift: any number between 0 and 2\n",
    "\n",
    "Possible subsets: All, SF (starforming), Q (quenched), 5 stellar mass bins, 4 inclination bins, 4 offset bins \n",
    "\n",
    "Stellar mass: 9 < log M*< 9.5, 9.5 < log M*< 10, 10 < log M*< 10.5, 10.5 < log M*< 11, 11 < log M*< 12\n",
    "\n",
    "Inclination: i<10 , 10 < i < 45, 45 < i < 80, i > 80 \n",
    "\n",
    "Projected offset: b_offset < 5 kpc, 5 kpc < b_offset < 10 kpc, 10 kpc < b_offset < 30 kpc , b_offset < 30 kpc\n",
    "\n",
    "List: 'All', 'SF', 'Q', 'M1', 'M2', 'M3', 'M4', 'M5','i1', 'i2', 'i3', 'i4', 'offset1', 'offset2','offset3','offset4' (also see dict_keys when reading in Table B.2)\n",
    "\n",
    "\n",
    "#### Choosing the number of values and limits of the PDF\n",
    "\n",
    "lower_limit, upper_limit: the limits of the PDF on the x axis (rad m$^{-2}$ for RM and pc cm$^{-3}$ for DM)\n",
    "\n",
    "dist_size: number of values drawn from distribution\n",
    "\n",
    "step_size: bin size of plotted PDF (rad m$^{-2}$ for RM and pc cm$^{-3}$ for DM)"
   ]
  },
  {
   "cell_type": "code",
   "execution_count": 122,
   "id": "9a1cbd04-0734-4035-acee-f97a57aaf19e",
   "metadata": {
    "tags": []
   },
   "outputs": [],
   "source": [
    "z = 2\n",
    "subset = 'offset1'\n",
    "\n",
    "\n",
    "lower_limit_RM = -1000\n",
    "upper_limit_RM = 1000\n",
    "dist_size_RM = 1000\n",
    "bin_size_RM = 25\n",
    "\n",
    "\n",
    "lower_limit_DM = 0\n",
    "upper_limit_DM = 1000\n",
    "dist_size_DM = 5000\n",
    "bin_size_DM = 25"
   ]
  },
  {
   "cell_type": "markdown",
   "id": "0c299331-8727-4b03-ae01-98433dea5fbd",
   "metadata": {},
   "source": [
    "#### Reading in Table B.2 "
   ]
  },
  {
   "cell_type": "code",
   "execution_count": 115,
   "id": "a6f3ca3a-c125-44cf-8d08-e5b1ebb29597",
   "metadata": {
    "tags": []
   },
   "outputs": [],
   "source": [
    "data = ascii.read('PDF_params.txt')  \n",
    "params = {'All': [], 'SF':[], 'Q': [], 'M1': [], 'M2': [], 'M3': [], 'M4': [], 'M5':[],\n",
    "          'i1': [], 'i2': [], 'i3': [], 'i4': [], 'offset1': [], 'offset2': [],'offset3': [],'offset4': [] }\n",
    "dict_keys = list(params.keys())\n",
    "for i in range(len(dict_keys)):\n",
    "    params[dict_keys[i]].append(data[i*8:i*8+8])"
   ]
  },
  {
   "cell_type": "markdown",
   "id": "acc93883-7c1e-4408-9254-30a5f62d9637",
   "metadata": {},
   "source": [
    "#### PDF parameter calculation\n",
    "Calculates the parameters of the RM and DM PDFs at a given redshift for a given subset of galaxies\n",
    "\n",
    "***Needs to be rerun for new redshift or subset***"
   ]
  },
  {
   "cell_type": "code",
   "execution_count": 116,
   "id": "4840ccbe-8621-41e6-aba3-56913038add6",
   "metadata": {
    "tags": []
   },
   "outputs": [],
   "source": [
    "# RM parameters\n",
    "\n",
    "a1 = curved_powerlaw(z,params[subset][0][0]['A'],params[subset][0][0]['B'],params[subset][0][0]['C'],params[subset][0][0]['D'])\n",
    "a2 = curved_powerlaw(z,params[subset][0][1]['A'],params[subset][0][1]['B'],params[subset][0][1]['C'],params[subset][0][1]['D'])\n",
    "a3 = curved_powerlaw(z,params[subset][0][2]['A'],params[subset][0][2]['B'],params[subset][0][2]['C'],params[subset][0][2]['D'])\n",
    "gamma = curved_powerlaw(z,params[subset][0][3]['A'],params[subset][0][3]['B'],params[subset][0][3]['C'],params[subset][0][3]['D'])\n",
    "sigma1 = curved_powerlaw(z,params[subset][0][4]['A'],params[subset][0][4]['B'],params[subset][0][4]['C'],params[subset][0][4]['D'])\n",
    "sigma2 = curved_powerlaw(z,params[subset][0][5]['A'],params[subset][0][5]['B'],params[subset][0][5]['C'],params[subset][0][5]['D'])\n",
    "\n",
    "# DM parameters\n",
    "\n",
    "mu = exponential(z,params[subset][0][6]['A'],params[subset][0][6]['B'],params[subset][0][6]['C'])\n",
    "sigma = exponential(z,params[subset][0][7]['A'],params[subset][0][7]['B'],params[subset][0][7]['C'])"
   ]
  },
  {
   "cell_type": "markdown",
   "id": "79899932-5a74-42bb-b8ae-6ba6b6eae29a",
   "metadata": {},
   "source": [
    "#### RM and DM PDFs\n",
    "\n",
    "Defines the PDFs of the chosen subsample, draws values from it, and plots the resulting PDF"
   ]
  },
  {
   "cell_type": "code",
   "execution_count": 117,
   "id": "be20a1df-7e2a-40af-80cc-4297fb695ab2",
   "metadata": {
    "tags": []
   },
   "outputs": [],
   "source": [
    "RM = RM_pdf_values(lower_limit_RM,upper_limit_RM,dist_size_RM,a1,a2,a3,gamma,sigma1,sigma2)"
   ]
  },
  {
   "cell_type": "code",
   "execution_count": 118,
   "id": "8c4a09ca-f2ab-4509-a00a-97c41481f5cc",
   "metadata": {
    "tags": []
   },
   "outputs": [],
   "source": [
    "DM = DM_pdf_values(lower_limit_DM,upper_limit_DM,dist_size_DM,mu,sigma)"
   ]
  },
  {
   "cell_type": "code",
   "execution_count": 120,
   "id": "9851f284-ca54-4eaf-bea2-2580f689b0d2",
   "metadata": {
    "tags": []
   },
   "outputs": [
    {
     "data": {
      "text/plain": [
       "Text(0, 0.5, 'Normalized counts')"
      ]
     },
     "execution_count": 120,
     "metadata": {},
     "output_type": "execute_result"
    },
    {
     "data": {
      "image/png": "[encoded data removed]",
      "text/plain": [
       "<Figure size 640x480 with 1 Axes>"
      ]
     },
     "metadata": {},
     "output_type": "display_data"
    }
   ],
   "source": [
    "# Plot RM PDF\n",
    "\n",
    "plt.hist(RM,histtype='step',density=True,bins=np.arange(lower_limit_RM,upper_limit_RM,bin_size_RM))\n",
    "plt.yscale('log')\n",
    "plt.xlim(lower_limit_RM,upper_limit_RM)\n",
    "plt.xlabel(r'RM (rad m$^{-2}$)')\n",
    "plt.ylabel('Normalized counts')"
   ]
  },
  {
   "cell_type": "code",
   "execution_count": 121,
   "id": "d4ffe81d-9467-46f3-975d-9e8322fe4f92",
   "metadata": {
    "tags": []
   },
   "outputs": [
    {
     "data": {
      "text/plain": [
       "Text(0, 0.5, 'Normalized counts')"
      ]
     },
     "execution_count": 121,
     "metadata": {},
     "output_type": "execute_result"
    },
    {
     "data": {
      "image/png": "[encoded data removed]",
      "text/plain": [
       "<Figure size 640x480 with 1 Axes>"
      ]
     },
     "metadata": {},
     "output_type": "display_data"
    }
   ],
   "source": [
    "# Plot DM PDF\n",
    "plt.hist(DM,histtype='step',density=True,bins=np.arange(lower_limit_DM,upper_limit_DM,bin_size_DM))\n",
    "plt.xlim(lower_limit_DM,upper_limit_DM)\n",
    "plt.xlabel(r'DM (pc cm$^{-3}$)')\n",
    "plt.ylabel('Normalized counts')"
   ]
  },
  {
   "cell_type": "code",
   "execution_count": null,
   "id": "217c82d7-5eff-4f71-9355-827b0ea41237",
   "metadata": {},
   "outputs": [],
   "source": []
  }
 ],
 "metadata": {
  "kernelspec": {
   "display_name": "Python 3 (ipykernel)",
   "language": "python",
   "name": "python3"
  },
  "language_info": {
   "codemirror_mode": {
    "name": "ipython",
    "version": 3
   },
   "file_extension": ".py",
   "mimetype": "text/x-python",
   "name": "python",
   "nbconvert_exporter": "python",
   "pygments_lexer": "ipython3",
   "version": "3.7.6"
  }
 },
 "nbformat": 4,
 "nbformat_minor": 5
}
